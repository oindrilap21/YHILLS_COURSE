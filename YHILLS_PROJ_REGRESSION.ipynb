{
 "cells": [
  {
   "cell_type": "code",
   "execution_count": 43,
   "id": "e641d686",
   "metadata": {},
   "outputs": [],
   "source": [
    "import numpy as np \n",
    "import pandas as pd  \n",
    "import matplotlib.pyplot as plt \n",
    "%matplotlib inline \n",
    "import seaborn as sns\n",
    "from sklearn.model_selection import train_test_split \n",
    "from sklearn.linear_model import LinearRegression"
   ]
  },
  {
   "cell_type": "code",
   "execution_count": 44,
   "id": "80634f1c",
   "metadata": {},
   "outputs": [],
   "source": [
    "concrete_df = pd.read_csv(\"https://raw.githubusercontent.com/Premalatha-success/Yhills_July12_Analytics/main/concrete.csv\") "
   ]
  },
  {
   "cell_type": "code",
   "execution_count": 45,
   "id": "b5de784a",
   "metadata": {},
   "outputs": [
    {
     "data": {
      "text/plain": [
       "(1030, 9)"
      ]
     },
     "execution_count": 45,
     "metadata": {},
     "output_type": "execute_result"
    }
   ],
   "source": [
    "concrete_df.shape"
   ]
  },
  {
   "cell_type": "code",
   "execution_count": 74,
   "id": "48a2cf16",
   "metadata": {},
   "outputs": [
    {
     "data": {
      "text/plain": [
       "cement          float64\n",
       "slag            float64\n",
       "ash             float64\n",
       "water           float64\n",
       "superplastic    float64\n",
       "coarseagg       float64\n",
       "fineagg         float64\n",
       "age               int64\n",
       "strength        float64\n",
       "dtype: object"
      ]
     },
     "execution_count": 74,
     "metadata": {},
     "output_type": "execute_result"
    }
   ],
   "source": [
    "concrete_df.dtypes"
   ]
  },
  {
   "cell_type": "code",
   "execution_count": 73,
   "id": "883a6f9d",
   "metadata": {},
   "outputs": [
    {
     "name": "stdout",
     "output_type": "stream",
     "text": [
      "<class 'pandas.core.frame.DataFrame'>\n",
      "RangeIndex: 1030 entries, 0 to 1029\n",
      "Data columns (total 9 columns):\n",
      " #   Column        Non-Null Count  Dtype  \n",
      "---  ------        --------------  -----  \n",
      " 0   cement        1030 non-null   float64\n",
      " 1   slag          1030 non-null   float64\n",
      " 2   ash           1030 non-null   float64\n",
      " 3   water         1030 non-null   float64\n",
      " 4   superplastic  1030 non-null   float64\n",
      " 5   coarseagg     1030 non-null   float64\n",
      " 6   fineagg       1030 non-null   float64\n",
      " 7   age           1030 non-null   int64  \n",
      " 8   strength      1030 non-null   float64\n",
      "dtypes: float64(8), int64(1)\n",
      "memory usage: 72.5 KB\n"
     ]
    }
   ],
   "source": [
    "concrete_df.info()"
   ]
  },
  {
   "cell_type": "code",
   "execution_count": 75,
   "id": "30aa6bce",
   "metadata": {},
   "outputs": [
    {
     "data": {
      "text/html": [
       "<div>\n",
       "<style scoped>\n",
       "    .dataframe tbody tr th:only-of-type {\n",
       "        vertical-align: middle;\n",
       "    }\n",
       "\n",
       "    .dataframe tbody tr th {\n",
       "        vertical-align: top;\n",
       "    }\n",
       "\n",
       "    .dataframe thead th {\n",
       "        text-align: right;\n",
       "    }\n",
       "</style>\n",
       "<table border=\"1\" class=\"dataframe\">\n",
       "  <thead>\n",
       "    <tr style=\"text-align: right;\">\n",
       "      <th></th>\n",
       "      <th>cement</th>\n",
       "      <th>slag</th>\n",
       "      <th>ash</th>\n",
       "      <th>water</th>\n",
       "      <th>superplastic</th>\n",
       "      <th>coarseagg</th>\n",
       "      <th>fineagg</th>\n",
       "      <th>age</th>\n",
       "      <th>strength</th>\n",
       "    </tr>\n",
       "  </thead>\n",
       "  <tbody>\n",
       "    <tr>\n",
       "      <th>860</th>\n",
       "      <td>162.0</td>\n",
       "      <td>190.0</td>\n",
       "      <td>148.0</td>\n",
       "      <td>179.0</td>\n",
       "      <td>19.0</td>\n",
       "      <td>838.0</td>\n",
       "      <td>741.0</td>\n",
       "      <td>28</td>\n",
       "      <td>33.76</td>\n",
       "    </tr>\n",
       "    <tr>\n",
       "      <th>383</th>\n",
       "      <td>366.0</td>\n",
       "      <td>187.0</td>\n",
       "      <td>0.0</td>\n",
       "      <td>191.0</td>\n",
       "      <td>7.0</td>\n",
       "      <td>824.0</td>\n",
       "      <td>757.0</td>\n",
       "      <td>28</td>\n",
       "      <td>65.91</td>\n",
       "    </tr>\n",
       "    <tr>\n",
       "      <th>474</th>\n",
       "      <td>356.0</td>\n",
       "      <td>0.0</td>\n",
       "      <td>142.0</td>\n",
       "      <td>193.0</td>\n",
       "      <td>11.0</td>\n",
       "      <td>801.0</td>\n",
       "      <td>778.0</td>\n",
       "      <td>28</td>\n",
       "      <td>40.87</td>\n",
       "    </tr>\n",
       "    <tr>\n",
       "      <th>156</th>\n",
       "      <td>531.3</td>\n",
       "      <td>0.0</td>\n",
       "      <td>0.0</td>\n",
       "      <td>141.8</td>\n",
       "      <td>28.2</td>\n",
       "      <td>852.1</td>\n",
       "      <td>893.7</td>\n",
       "      <td>28</td>\n",
       "      <td>56.40</td>\n",
       "    </tr>\n",
       "    <tr>\n",
       "      <th>41</th>\n",
       "      <td>246.8</td>\n",
       "      <td>0.0</td>\n",
       "      <td>125.1</td>\n",
       "      <td>143.3</td>\n",
       "      <td>12.0</td>\n",
       "      <td>1086.8</td>\n",
       "      <td>800.9</td>\n",
       "      <td>56</td>\n",
       "      <td>60.32</td>\n",
       "    </tr>\n",
       "    <tr>\n",
       "      <th>935</th>\n",
       "      <td>540.0</td>\n",
       "      <td>0.0</td>\n",
       "      <td>0.0</td>\n",
       "      <td>173.0</td>\n",
       "      <td>0.0</td>\n",
       "      <td>1125.0</td>\n",
       "      <td>613.0</td>\n",
       "      <td>28</td>\n",
       "      <td>67.31</td>\n",
       "    </tr>\n",
       "    <tr>\n",
       "      <th>897</th>\n",
       "      <td>286.3</td>\n",
       "      <td>200.9</td>\n",
       "      <td>0.0</td>\n",
       "      <td>144.7</td>\n",
       "      <td>11.2</td>\n",
       "      <td>1004.6</td>\n",
       "      <td>803.7</td>\n",
       "      <td>3</td>\n",
       "      <td>24.40</td>\n",
       "    </tr>\n",
       "    <tr>\n",
       "      <th>769</th>\n",
       "      <td>374.0</td>\n",
       "      <td>0.0</td>\n",
       "      <td>0.0</td>\n",
       "      <td>190.0</td>\n",
       "      <td>7.0</td>\n",
       "      <td>1013.0</td>\n",
       "      <td>730.0</td>\n",
       "      <td>28</td>\n",
       "      <td>39.05</td>\n",
       "    </tr>\n",
       "    <tr>\n",
       "      <th>760</th>\n",
       "      <td>277.1</td>\n",
       "      <td>0.0</td>\n",
       "      <td>97.4</td>\n",
       "      <td>160.6</td>\n",
       "      <td>11.8</td>\n",
       "      <td>973.9</td>\n",
       "      <td>875.6</td>\n",
       "      <td>28</td>\n",
       "      <td>48.28</td>\n",
       "    </tr>\n",
       "    <tr>\n",
       "      <th>40</th>\n",
       "      <td>194.7</td>\n",
       "      <td>0.0</td>\n",
       "      <td>100.5</td>\n",
       "      <td>170.2</td>\n",
       "      <td>7.5</td>\n",
       "      <td>998.0</td>\n",
       "      <td>901.8</td>\n",
       "      <td>14</td>\n",
       "      <td>24.28</td>\n",
       "    </tr>\n",
       "  </tbody>\n",
       "</table>\n",
       "</div>"
      ],
      "text/plain": [
       "     cement   slag    ash  water  superplastic  coarseagg  fineagg  age  \\\n",
       "860   162.0  190.0  148.0  179.0          19.0      838.0    741.0   28   \n",
       "383   366.0  187.0    0.0  191.0           7.0      824.0    757.0   28   \n",
       "474   356.0    0.0  142.0  193.0          11.0      801.0    778.0   28   \n",
       "156   531.3    0.0    0.0  141.8          28.2      852.1    893.7   28   \n",
       "41    246.8    0.0  125.1  143.3          12.0     1086.8    800.9   56   \n",
       "935   540.0    0.0    0.0  173.0           0.0     1125.0    613.0   28   \n",
       "897   286.3  200.9    0.0  144.7          11.2     1004.6    803.7    3   \n",
       "769   374.0    0.0    0.0  190.0           7.0     1013.0    730.0   28   \n",
       "760   277.1    0.0   97.4  160.6          11.8      973.9    875.6   28   \n",
       "40    194.7    0.0  100.5  170.2           7.5      998.0    901.8   14   \n",
       "\n",
       "     strength  \n",
       "860     33.76  \n",
       "383     65.91  \n",
       "474     40.87  \n",
       "156     56.40  \n",
       "41      60.32  \n",
       "935     67.31  \n",
       "897     24.40  \n",
       "769     39.05  \n",
       "760     48.28  \n",
       "40      24.28  "
      ]
     },
     "execution_count": 75,
     "metadata": {},
     "output_type": "execute_result"
    }
   ],
   "source": [
    "concrete_df.sample(10)"
   ]
  },
  {
   "cell_type": "code",
   "execution_count": 48,
   "id": "969ca6a9",
   "metadata": {},
   "outputs": [],
   "source": [
    "X = concrete_df.drop(['strength'], axis=1)\n",
    "y = concrete_df[['strength']]"
   ]
  },
  {
   "cell_type": "code",
   "execution_count": 49,
   "id": "06eb8c89",
   "metadata": {},
   "outputs": [],
   "source": [
    "X_train, X_test, y_train, y_test = train_test_split(X, y, test_size=0.30,random_state=1)"
   ]
  },
  {
   "cell_type": "code",
   "execution_count": 50,
   "id": "82fa287f",
   "metadata": {},
   "outputs": [
    {
     "data": {
      "text/plain": [
       "LinearRegression()"
      ]
     },
     "execution_count": 50,
     "metadata": {},
     "output_type": "execute_result"
    }
   ],
   "source": [
    "reg_model = LinearRegression()\n",
    "reg_model.fit(X_train, y_train)"
   ]
  },
  {
   "cell_type": "code",
   "execution_count": 51,
   "id": "8bb9834c",
   "metadata": {},
   "outputs": [
    {
     "data": {
      "text/plain": [
       "0.6031487540630229"
      ]
     },
     "execution_count": 51,
     "metadata": {},
     "output_type": "execute_result"
    }
   ],
   "source": [
    "reg_model.score(X_train, y_train)\n"
   ]
  },
  {
   "cell_type": "code",
   "execution_count": 52,
   "id": "22fad935",
   "metadata": {},
   "outputs": [
    {
     "data": {
      "text/plain": [
       "0.6339136715208276"
      ]
     },
     "execution_count": 52,
     "metadata": {},
     "output_type": "execute_result"
    }
   ],
   "source": [
    "reg_model.score(X_test, y_test)"
   ]
  },
  {
   "cell_type": "code",
   "execution_count": 53,
   "id": "1af42505",
   "metadata": {},
   "outputs": [
    {
     "name": "stdout",
     "output_type": "stream",
     "text": [
      "0.7549578268848264\n"
     ]
    }
   ],
   "source": [
    "from sklearn.preprocessing import PolynomialFeatures\n",
    "from sklearn import linear_model\n",
    "\n",
    "poly = PolynomialFeatures(degree=2, interaction_only=True)\n",
    "X_train2 = poly.fit_transform(X_train)\n",
    "X_test2 = poly.fit_transform(X_test)\n",
    "\n",
    "poly_clf = linear_model.LinearRegression()\n",
    "\n",
    "poly_clf.fit(X_train2, y_train)\n",
    "\n",
    "#y_pred = poly_clf.predict(X_test2)\n",
    "\n",
    "#print(y_pred)\n",
    "\n",
    "#In sample (training) R^2 will always improve with the number of variables!\n",
    "print(poly_clf.score(X_train2, y_train))"
   ]
  },
  {
   "cell_type": "code",
   "execution_count": 54,
   "id": "da3d21a8",
   "metadata": {},
   "outputs": [
    {
     "name": "stdout",
     "output_type": "stream",
     "text": [
      "0.7444710081435623\n"
     ]
    }
   ],
   "source": [
    "print(poly_clf.score(X_test2, y_test))"
   ]
  },
  {
   "cell_type": "code",
   "execution_count": 55,
   "id": "3d3138cf",
   "metadata": {},
   "outputs": [],
   "source": [
    "from sklearn.tree import DecisionTreeRegressor"
   ]
  },
  {
   "cell_type": "code",
   "execution_count": 56,
   "id": "1a75013d",
   "metadata": {},
   "outputs": [],
   "source": [
    "model=DecisionTreeRegressor(criterion=\"friedman_mse\",max_depth=3)"
   ]
  },
  {
   "cell_type": "code",
   "execution_count": 57,
   "id": "0ebbe359",
   "metadata": {},
   "outputs": [
    {
     "data": {
      "text/plain": [
       "DecisionTreeRegressor(criterion='friedman_mse', max_depth=3)"
      ]
     },
     "execution_count": 57,
     "metadata": {},
     "output_type": "execute_result"
    }
   ],
   "source": [
    "model.fit(X_train,y_train)"
   ]
  },
  {
   "cell_type": "code",
   "execution_count": 58,
   "id": "9f530c66",
   "metadata": {},
   "outputs": [
    {
     "data": {
      "text/plain": [
       "0.6358072763408258"
      ]
     },
     "execution_count": 58,
     "metadata": {},
     "output_type": "execute_result"
    }
   ],
   "source": [
    "model.score(X_train,y_train)"
   ]
  },
  {
   "cell_type": "code",
   "execution_count": 59,
   "id": "ff6bfbda",
   "metadata": {},
   "outputs": [
    {
     "data": {
      "text/plain": [
       "0.583104124329016"
      ]
     },
     "execution_count": 59,
     "metadata": {},
     "output_type": "execute_result"
    }
   ],
   "source": [
    "model.score(X_test,y_test)"
   ]
  },
  {
   "cell_type": "code",
   "execution_count": 60,
   "id": "c37cff60",
   "metadata": {},
   "outputs": [],
   "source": [
    "from sklearn.ensemble import BaggingRegressor"
   ]
  },
  {
   "cell_type": "code",
   "execution_count": 65,
   "id": "a662fd8c",
   "metadata": {},
   "outputs": [
    {
     "name": "stderr",
     "output_type": "stream",
     "text": [
      "C:\\Users\\munmu\\anaconda3\\lib\\site-packages\\sklearn\\utils\\validation.py:63: DataConversionWarning: A column-vector y was passed when a 1d array was expected. Please change the shape of y to (n_samples, ), for example using ravel().\n",
      "  return f(*args, **kwargs)\n"
     ]
    },
    {
     "data": {
      "text/plain": [
       "BaggingRegressor(base_estimator=DecisionTreeRegressor(criterion='friedman_mse',\n",
       "                                                      max_depth=3),\n",
       "                 n_estimators=14)"
      ]
     },
     "execution_count": 65,
     "metadata": {},
     "output_type": "execute_result"
    }
   ],
   "source": [
    "model1=BaggingRegressor(n_estimators=14,base_estimator=model)\n",
    "model1.fit(X_train,y_train)"
   ]
  },
  {
   "cell_type": "code",
   "execution_count": 66,
   "id": "72307746",
   "metadata": {},
   "outputs": [
    {
     "data": {
      "text/plain": [
       "0.7189457128904284"
      ]
     },
     "execution_count": 66,
     "metadata": {},
     "output_type": "execute_result"
    }
   ],
   "source": [
    "model1.score(X_train,y_train)\n"
   ]
  },
  {
   "cell_type": "code",
   "execution_count": 67,
   "id": "fd444b4c",
   "metadata": {},
   "outputs": [
    {
     "data": {
      "text/plain": [
       "0.7189457128904284"
      ]
     },
     "execution_count": 67,
     "metadata": {},
     "output_type": "execute_result"
    }
   ],
   "source": [
    "model1.score(X_train,y_train)\n"
   ]
  },
  {
   "cell_type": "code",
   "execution_count": 68,
   "id": "e25ca94b",
   "metadata": {},
   "outputs": [
    {
     "data": {
      "text/plain": [
       "0.6484877065985803"
      ]
     },
     "execution_count": 68,
     "metadata": {},
     "output_type": "execute_result"
    }
   ],
   "source": [
    "model1.score(X_test,y_test)"
   ]
  },
  {
   "cell_type": "code",
   "execution_count": 77,
   "id": "f036bec4",
   "metadata": {},
   "outputs": [
    {
     "data": {
      "image/png": "[encoded data removed]",
      "text/plain": [
       "<Figure size 432x288 with 1 Axes>"
      ]
     },
     "metadata": {
      "needs_background": "light"
     },
     "output_type": "display_data"
    }
   ],
   "source": [
    "plt.scatter(concrete_df['cement'], concrete_df['strength'])\n",
    " \n",
    "# Adding Title to the Plot\n",
    "plt.title(\"Scatter Plot\")\n",
    " \n",
    "# Setting the X and Y labels\n",
    "plt.xlabel('cement')\n",
    "plt.ylabel('strength')\n",
    " \n",
    "plt.show()"
   ]
  },
  {
   "cell_type": "code",
   "execution_count": 78,
   "id": "cb902984",
   "metadata": {},
   "outputs": [
    {
     "data": {
      "image/png": "[encoded data removed]",
      "text/plain": [
       "<Figure size 432x288 with 1 Axes>"
      ]
     },
     "metadata": {
      "needs_background": "light"
     },
     "output_type": "display_data"
    }
   ],
   "source": [
    "xpoints = concrete_df['cement']\n",
    "ypoints = concrete_df['strength']\n",
    "plt.plot(xpoints, ypoints)\n",
    "plt.show()"
   ]
  },
  {
   "cell_type": "code",
   "execution_count": null,
   "id": "2c9fea0c",
   "metadata": {},
   "outputs": [],
   "source": []
  }
 ],
 "metadata": {
  "kernelspec": {
   "display_name": "Python 3 (ipykernel)",
   "language": "python",
   "name": "python3"
  },
  "language_info": {
   "codemirror_mode": {
    "name": "ipython",
    "version": 3
   },
   "file_extension": ".py",
   "mimetype": "text/x-python",
   "name": "python",
   "nbconvert_exporter": "python",
   "pygments_lexer": "ipython3",
   "version": "3.9.7"
  }
 },
 "nbformat": 4,
 "nbformat_minor": 5
}
